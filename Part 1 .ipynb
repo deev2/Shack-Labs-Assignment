{
 "cells": [
  {
   "cell_type": "code",
   "execution_count": 1,
   "id": "bce01a20",
   "metadata": {},
   "outputs": [],
   "source": [
    "# Importing some necessary Libraries\n",
    "import pandas as pd\n",
    "import numpy as np\n",
    "import matplotlib.pyplot as plt\n",
    "import seaborn as sns\n",
    "import warnings\n",
    "warnings.filterwarnings(\"ignore\")\n",
    "pd.set_option(\"display.max_columns\",None)\n",
    "pd.set_option(\"display.max_rows\",None)"
   ]
  },
  {
   "cell_type": "code",
   "execution_count": 2,
   "id": "591e5e40",
   "metadata": {},
   "outputs": [
    {
     "data": {
      "text/html": [
       "<div>\n",
       "<style scoped>\n",
       "    .dataframe tbody tr th:only-of-type {\n",
       "        vertical-align: middle;\n",
       "    }\n",
       "\n",
       "    .dataframe tbody tr th {\n",
       "        vertical-align: top;\n",
       "    }\n",
       "\n",
       "    .dataframe thead th {\n",
       "        text-align: right;\n",
       "    }\n",
       "</style>\n",
       "<table border=\"1\" class=\"dataframe\">\n",
       "  <thead>\n",
       "    <tr style=\"text-align: right;\">\n",
       "      <th></th>\n",
       "      <th>Transaction date</th>\n",
       "      <th>House Age</th>\n",
       "      <th>Distance from nearest Metro station (km)</th>\n",
       "      <th>Number of convenience stores</th>\n",
       "      <th>latitude</th>\n",
       "      <th>longitude</th>\n",
       "      <th>Number of bedrooms</th>\n",
       "      <th>House size (sqft)</th>\n",
       "      <th>House price of unit area</th>\n",
       "    </tr>\n",
       "  </thead>\n",
       "  <tbody>\n",
       "    <tr>\n",
       "      <th>0</th>\n",
       "      <td>2012.916667</td>\n",
       "      <td>32.0</td>\n",
       "      <td>84.87882</td>\n",
       "      <td>10</td>\n",
       "      <td>24.98298</td>\n",
       "      <td>121.54024</td>\n",
       "      <td>1</td>\n",
       "      <td>575</td>\n",
       "      <td>37.9</td>\n",
       "    </tr>\n",
       "    <tr>\n",
       "      <th>1</th>\n",
       "      <td>2012.916667</td>\n",
       "      <td>19.5</td>\n",
       "      <td>306.59470</td>\n",
       "      <td>9</td>\n",
       "      <td>24.98034</td>\n",
       "      <td>121.53951</td>\n",
       "      <td>2</td>\n",
       "      <td>1240</td>\n",
       "      <td>42.2</td>\n",
       "    </tr>\n",
       "    <tr>\n",
       "      <th>2</th>\n",
       "      <td>2013.583333</td>\n",
       "      <td>13.3</td>\n",
       "      <td>561.98450</td>\n",
       "      <td>5</td>\n",
       "      <td>24.98746</td>\n",
       "      <td>121.54391</td>\n",
       "      <td>3</td>\n",
       "      <td>1060</td>\n",
       "      <td>47.3</td>\n",
       "    </tr>\n",
       "    <tr>\n",
       "      <th>3</th>\n",
       "      <td>2013.500000</td>\n",
       "      <td>13.3</td>\n",
       "      <td>561.98450</td>\n",
       "      <td>5</td>\n",
       "      <td>24.98746</td>\n",
       "      <td>121.54391</td>\n",
       "      <td>2</td>\n",
       "      <td>875</td>\n",
       "      <td>54.8</td>\n",
       "    </tr>\n",
       "    <tr>\n",
       "      <th>4</th>\n",
       "      <td>2012.833333</td>\n",
       "      <td>5.0</td>\n",
       "      <td>390.56840</td>\n",
       "      <td>5</td>\n",
       "      <td>24.97937</td>\n",
       "      <td>121.54245</td>\n",
       "      <td>1</td>\n",
       "      <td>491</td>\n",
       "      <td>43.1</td>\n",
       "    </tr>\n",
       "  </tbody>\n",
       "</table>\n",
       "</div>"
      ],
      "text/plain": [
       "   Transaction date  House Age  Distance from nearest Metro station (km)  \\\n",
       "0       2012.916667       32.0                                  84.87882   \n",
       "1       2012.916667       19.5                                 306.59470   \n",
       "2       2013.583333       13.3                                 561.98450   \n",
       "3       2013.500000       13.3                                 561.98450   \n",
       "4       2012.833333        5.0                                 390.56840   \n",
       "\n",
       "   Number of convenience stores  latitude  longitude  Number of bedrooms  \\\n",
       "0                            10  24.98298  121.54024                   1   \n",
       "1                             9  24.98034  121.53951                   2   \n",
       "2                             5  24.98746  121.54391                   3   \n",
       "3                             5  24.98746  121.54391                   2   \n",
       "4                             5  24.97937  121.54245                   1   \n",
       "\n",
       "   House size (sqft)  House price of unit area  \n",
       "0                575                      37.9  \n",
       "1               1240                      42.2  \n",
       "2               1060                      47.3  \n",
       "3                875                      54.8  \n",
       "4                491                      43.1  "
      ]
     },
     "execution_count": 2,
     "metadata": {},
     "output_type": "execute_result"
    }
   ],
   "source": [
    "# Reading the data using pandas\n",
    "house = pd.read_excel(r\"DS - Assignment Part 1 data set.xlsx\",header=0)\n",
    "house.head()"
   ]
  },
  {
   "cell_type": "code",
   "execution_count": 3,
   "id": "21b43bb8",
   "metadata": {},
   "outputs": [
    {
     "data": {
      "text/plain": [
       "Transaction date                            float64\n",
       "House Age                                   float64\n",
       "Distance from nearest Metro station (km)    float64\n",
       "Number of convenience stores                  int64\n",
       "latitude                                    float64\n",
       "longitude                                   float64\n",
       "Number of bedrooms                            int64\n",
       "House size (sqft)                             int64\n",
       "House price of unit area                    float64\n",
       "dtype: object"
      ]
     },
     "execution_count": 3,
     "metadata": {},
     "output_type": "execute_result"
    }
   ],
   "source": [
    "# The data type of each coulmn\n",
    "house.dtypes"
   ]
  },
  {
   "cell_type": "code",
   "execution_count": 4,
   "id": "c31a9cbe",
   "metadata": {},
   "outputs": [
    {
     "data": {
      "text/plain": [
       "Transaction date                            0\n",
       "House Age                                   0\n",
       "Distance from nearest Metro station (km)    0\n",
       "Number of convenience stores                0\n",
       "latitude                                    0\n",
       "longitude                                   0\n",
       "Number of bedrooms                          0\n",
       "House size (sqft)                           0\n",
       "House price of unit area                    0\n",
       "dtype: int64"
      ]
     },
     "execution_count": 4,
     "metadata": {},
     "output_type": "execute_result"
    }
   ],
   "source": [
    "# Finding the missing values but no missing values\n",
    "house.isnull().sum()"
   ]
  },
  {
   "cell_type": "code",
   "execution_count": 5,
   "id": "55fc5d3a",
   "metadata": {},
   "outputs": [
    {
     "name": "stdout",
     "output_type": "stream",
     "text": [
      "{'Transaction date': array([2012.9166667, 2013.5833333, 2013.5      , 2012.8333333,\n",
      "       2012.6666667, 2013.4166667, 2013.0833333, 2013.3333333,\n",
      "       2013.25     , 2012.75     , 2013.       , 2013.1666667])}\n",
      "{'House Age': array([32. , 19.5, 13.3,  5. ,  7.1, 34.5, 20.3, 31.7, 17.9, 34.8,  6.3,\n",
      "       13. , 20.4, 13.2, 35.7,  0. , 17.7, 16.9,  1.5,  4.5, 10.5, 14.7,\n",
      "       10.1, 39.6, 29.3,  3.1, 10.4, 19.2, 25.9, 29.6, 37.9, 16.5, 15.4,\n",
      "       13.9, 12. , 16.2, 13.6, 16.8, 36.1, 34.4,  2.7, 36.6, 21.7, 35.9,\n",
      "       24.2, 29.4, 31.3, 32.1, 16.1, 33.6,  3.5, 30.3, 11. ,  5.3, 17.2,\n",
      "        2.6, 17.5, 40.1,  1. ,  8.5, 30.4, 12.5,  6.6, 35.5, 32.5, 13.8,\n",
      "        6.8, 12.3, 20.5, 38.2, 18. , 11.8, 30.8, 25.3, 15.1,  1.8,  8.9,\n",
      "       23. ,  9.1, 20.6, 31.9, 40.9,  8. ,  6.4, 28.4, 16.4, 12.7,  1.1,\n",
      "       32.7, 12.2, 31.4,  4. ,  8.1, 33.3,  9.9, 14.8, 30.6, 30.9, 16.6,\n",
      "       31.5, 38.6,  3.8, 41.3, 38.5, 26.6, 33.4, 18.9, 11.4, 10. , 12.9,\n",
      "        5.1, 19.8, 11.9,  2.1,  3.2, 34.9, 35.8,  4.9,  6.5, 30.7, 11.6,\n",
      "       15.5, 16. , 13.7, 28.2, 27.6,  8.4, 24. ,  3.6,  4.3, 30.2, 33. ,\n",
      "       13.1, 14. , 26.9, 13.5, 17. , 14.1, 20.9, 16.3, 35.3, 43.8,  9.7,\n",
      "       15.2, 22.8, 34. , 18.2, 17.4, 38.3, 15.6, 12.8, 22.2, 11.5,  5.2,\n",
      "       17.6,  6.2, 18.1, 37.8, 28. , 37.2,  9. , 32.4, 31. , 27.1, 39.7,\n",
      "        2. , 32.8,  4.8,  7.5, 19. , 39.2,  5.9, 14.6, 17.3, 15.9,  3.9,\n",
      "       32.6, 15.7, 17.8, 34.7, 10.8, 27.5, 19.1, 21.2,  2.3,  4.7, 33.5,\n",
      "       15. , 30.1, 37.7,  3.4, 12.6, 26.4, 16.7, 33.2,  2.5, 38. , 20. ,\n",
      "       14.4, 10.3, 21.3, 35.4,  8.3,  3.7, 34.6, 28.6, 12.4,  4.1, 25.6,\n",
      "       39.8,  7.8, 30. , 27.3,  1.7,  5.7,  4.6, 18.4,  5.6, 32.9, 41.4,\n",
      "       17.1, 32.3, 14.2, 20.2, 33.9,  5.4, 37.3, 29.1, 18.3, 42.7, 37.1,\n",
      "       26.8,  7.6,  1.9, 18.5, 18.8])}\n",
      "{'Distance from nearest Metro station (km)': array([  84.87882,  306.5947 ,  561.9845 ,  390.5684 , 2175.03   ,\n",
      "        623.4731 ,  287.6025 , 5512.038  , 1783.18   ,  405.2134 ,\n",
      "         90.45606,  492.2313 , 2469.645  , 1164.838  ,  579.2083 ,\n",
      "        292.9978 ,  350.8515 ,  368.1363 ,   23.38284, 2275.877  ,\n",
      "        279.1726 , 1360.139  ,  480.6977 , 1487.868  ,  383.8624 ,\n",
      "        276.449  ,  557.478  ,  451.2438 , 4519.69   ,  769.4034 ,\n",
      "        488.5727 ,  323.655  ,  205.367  , 4079.418  , 1935.009  ,\n",
      "        577.9615 ,  289.3248 , 4082.015  , 4066.587  ,  519.4617 ,\n",
      "        512.7871 ,  533.4762 ,  488.8193 ,  463.9623 ,  640.7391 ,\n",
      "       4605.749  , 4510.359  ,  512.5487 , 1758.406  , 1438.579  ,\n",
      "       1160.632  ,  371.2495 ,   56.47425,  336.0532 , 1931.207  ,\n",
      "        259.6607 , 2175.877  ,  995.7554 ,  123.7429 ,  193.5845 ,\n",
      "        104.8101 ,  464.223  ,  424.5442 ,  379.5575 ,  616.4004 ,\n",
      "       2185.128  ,  552.4371 , 1414.837  ,  377.7956 ,  150.9347 ,\n",
      "       2707.392  ,  383.2805 ,  338.9679 , 1455.798  , 1406.43   ,\n",
      "       3947.945  ,  274.0144 , 1402.016  , 1146.329  ,  167.5989 ,\n",
      "        617.4424 ,  964.7496 ,  170.1289 ,  208.3905 ,  392.4459 ,\n",
      "        189.5181 ,  592.5006 , 2147.376  ,  196.6172 , 2102.427  ,\n",
      "        393.2606 ,  143.8383 ,  737.9161 , 6396.283  , 4197.349  ,\n",
      "       1583.722  ,  414.9476 ,  185.4296 ,  804.6897 ,  124.9912 ,\n",
      "        216.8329 ,  535.527  ,  482.7581 ,  373.3937 ,  186.9686 ,\n",
      "       1009.235  ,  319.0708 ,  942.4664 , 1559.827  ,  640.6071 ,\n",
      "        489.8821 , 3780.59   ,  179.4538 ,  170.7311 ,  387.7721 ,\n",
      "        376.1709 , 1264.73   ,  815.9314 ,   49.66105, 1236.564  ,\n",
      "        330.0854 ,  515.1122 , 1962.628  , 4527.687  ,  401.8807 ,\n",
      "        432.0385 ,  472.1745 , 4573.779  ,  181.0766 , 1144.436  ,\n",
      "        438.8513 , 4449.27   ,  201.8939 , 2615.465  , 1447.286  ,\n",
      "       3078.176  ,  190.0392 ,  616.5735 ,  750.0704 ,   57.58945,\n",
      "        421.479  , 3771.895  ,  461.1016 ,  707.9067 ,  126.7286 ,\n",
      "        157.6052 ,  451.6419 ,  642.6985 , 1449.722  ,  665.0636 ,\n",
      "        175.6294 , 1805.665  ,  383.7129 ,  590.9292 ,  372.6242 ,\n",
      "        529.7771 ,  186.5101 ,  431.1114 ,  324.9419 ,  265.0609 ,\n",
      "       3171.329  , 1156.412  , 4074.736  , 4412.765  ,  333.3679 ,\n",
      "       2216.612  ,  250.631  ,  373.8389 ,  732.8528 ,  837.7233 ,\n",
      "       1712.632  , 2077.39   ,  204.1705 ,  639.6198 ,  389.8219 ,\n",
      "       1055.067  , 6306.153  ,  424.7132 , 1159.454  , 1735.595  ,\n",
      "        329.9747 ,  339.2289 ,  444.1334 , 1485.097  , 2288.011  ,\n",
      "        493.657  ,  252.5822 ,  394.0173 , 1554.25   ,  184.3302 ,\n",
      "       1978.671  ,  718.2937 ,  323.6912 ,  490.3446 ,  395.6747 ,\n",
      "        335.5273 , 2179.59   ,  567.0349 ,  121.7262 ,  156.2442 ,\n",
      "        461.7848 ,  439.7105 , 1626.083  ,  169.9803 , 3079.89   ,\n",
      "       1643.499  ,  537.7971 ,  318.5292 , 1756.411  ,  752.7669 ,\n",
      "        272.6783 ,  187.4823 ,  197.1338 ,  757.3377 , 1497.713  ,\n",
      "       1156.777  ,  617.7134 , 1013.341  ,  337.6016 , 1867.233  ,\n",
      "        600.8604 ,  258.186  ,  270.8895 ,  563.2854 , 3085.17   ,\n",
      "       6488.021  , 2180.245  , 2674.961  ,  211.4473 , 2408.993  ,\n",
      "         87.30222,  281.205  ,  967.4    ,  109.9455 ,  614.1394 ,\n",
      "       2261.432  , 1801.544  , 1828.319  ,  312.8963 , 1157.988  ,\n",
      "       1717.193  ,  587.8877 ,  132.5469 , 3529.564  ,  506.1144 ,\n",
      "         82.88643, 2103.555  , 2251.938  ,  122.3619 ,  377.8302 ,\n",
      "       1939.749  ,  443.802  , 4136.271  ,  918.6357 ,  161.942  ,\n",
      "        130.9945 ,  372.1386 , 2175.744  ,  390.9696 ])}\n",
      "{'Number of convenience stores': array([10,  9,  5,  3,  7,  6,  1,  4,  2,  8,  0], dtype=int64)}\n",
      "{'latitude': array([24.98298, 24.98034, 24.98746, 24.97937, 24.96305, 24.97933,\n",
      "       24.98042, 24.95095, 24.96731, 24.97349, 24.97433, 24.96515,\n",
      "       24.96108, 24.99156, 24.9824 , 24.97744, 24.97544, 24.9675 ,\n",
      "       24.96772, 24.96314, 24.97528, 24.95204, 24.97353, 24.97542,\n",
      "       24.98085, 24.95593, 24.97419, 24.97563, 24.94826, 24.98281,\n",
      "       24.97841, 24.98419, 25.01459, 24.96386, 24.97201, 24.98203,\n",
      "       24.94155, 24.94297, 24.98748, 24.97445, 24.97015, 24.9703 ,\n",
      "       24.94684, 24.94925, 24.974  , 24.95402, 24.94968, 24.97254,\n",
      "       24.95744, 24.95776, 24.96365, 24.97585, 24.96303, 24.97635,\n",
      "       24.96571, 24.96674, 24.97964, 24.97587, 24.98343, 24.97723,\n",
      "       24.96322, 24.97598, 24.95182, 24.96427, 24.96725, 24.96056,\n",
      "       24.96735, 24.96853, 24.9512 , 24.98573, 24.94783, 24.9748 ,\n",
      "       24.98569, 24.9492 , 24.9663 , 24.97746, 24.98872, 24.97371,\n",
      "       24.95618, 24.96398, 24.97707, 24.9726 , 24.96299, 24.97701,\n",
      "       24.96044, 24.96172, 24.98155, 24.98092, 24.94375, 24.93885,\n",
      "       24.96622, 24.98199, 24.9711 , 24.97838, 24.98086, 24.9866 ,\n",
      "       24.96604, 24.96357, 24.96495, 24.97843, 24.97213, 24.97017,\n",
      "       24.93293, 24.96719, 24.98118, 24.95418, 24.94883, 24.97886,\n",
      "       24.95836, 24.97694, 24.97408, 24.95468, 24.94741, 24.98326,\n",
      "       24.9805 , 24.97005, 24.94867, 24.97697, 24.99176, 24.97493,\n",
      "       24.94898, 24.98489, 24.95495, 24.97285, 24.95464, 24.97945,\n",
      "       24.98246, 24.93363, 24.95425, 24.981  , 24.96881, 24.96628,\n",
      "       24.96945, 24.97559, 24.97289, 24.97503, 24.97347, 24.98672,\n",
      "       24.972  , 24.97153, 24.98102, 24.97703, 24.98123, 24.97814,\n",
      "       24.98059, 25.00115, 24.9489 , 24.94235, 24.95032, 24.98016,\n",
      "       24.96007, 24.96606, 24.98322, 24.97668, 24.96334, 24.96412,\n",
      "       24.98236, 24.97258, 24.96211, 24.95743, 24.97429, 24.9496 ,\n",
      "       24.96464, 24.98254, 24.97519, 24.97501, 24.97073, 24.95885,\n",
      "       24.96968, 24.9746 , 24.97305, 24.97026, 24.96581, 24.98674,\n",
      "       24.97509, 24.97217, 24.95674, 24.9796 , 24.97003, 24.98178,\n",
      "       24.96696, 24.97229, 24.97161, 24.97369, 24.9546 , 24.95394,\n",
      "       24.97425, 24.97071, 24.9832 , 24.97795, 24.95562, 24.97388,\n",
      "       24.97631, 24.97538, 24.94935, 24.97577, 24.99006, 24.96431,\n",
      "       24.98407, 24.96871, 24.96867, 24.97281, 24.98223, 24.998  ,\n",
      "       24.95719, 24.96324, 24.96143, 24.97417, 24.95505, 24.983  ,\n",
      "       24.97345, 24.98182, 24.97913, 24.96182, 24.95153, 24.95591,\n",
      "       24.96165, 24.96447, 24.97077, 24.93207, 24.97845, 24.96042,\n",
      "       24.95957, 24.96756, 24.97151, 24.95155, 24.97927, 24.95544,\n",
      "       24.97198, 24.98353, 24.95663, 24.97293, 24.9633 , 24.97923])}\n",
      "{'longitude': array([121.54024, 121.53951, 121.54391, 121.54245, 121.51254, 121.53642,\n",
      "       121.54228, 121.48458, 121.51486, 121.53372, 121.5431 , 121.53737,\n",
      "       121.51046, 121.53406, 121.54619, 121.54458, 121.53119, 121.54451,\n",
      "       121.54102, 121.51151, 121.54541, 121.54842, 121.53885, 121.51726,\n",
      "       121.53913, 121.53797, 121.54694, 121.49587, 121.53408, 121.53451,\n",
      "       121.54281, 121.54243, 121.51816, 121.51458, 121.54722, 121.54348,\n",
      "       121.50381, 121.50342, 121.53758, 121.54301, 121.54765, 121.54494,\n",
      "       121.53715, 121.49578, 121.49542, 121.53842, 121.55282, 121.5175 ,\n",
      "       121.53009, 121.54059, 121.53711, 121.53438, 121.51471, 121.54516,\n",
      "       121.54915, 121.54329, 121.54089, 121.54067, 121.53805, 121.53762,\n",
      "       121.53767, 121.51237, 121.53381, 121.54887, 121.53964, 121.54252,\n",
      "       121.50831, 121.54464, 121.54413, 121.549  , 121.52758, 121.50243,\n",
      "       121.53059, 121.5276 , 121.53076, 121.54026, 121.53299, 121.53411,\n",
      "       121.52984, 121.53844, 121.5425 , 121.54308, 121.53561, 121.51284,\n",
      "       121.54224, 121.51462, 121.53812, 121.54142, 121.54739, 121.47883,\n",
      "       121.50383, 121.51709, 121.5317 , 121.53477, 121.54039, 121.54162,\n",
      "       121.53653, 121.53863, 121.54082, 121.54211, 121.54951, 121.54277,\n",
      "       121.52406, 121.51627, 121.54647, 121.51203, 121.54269, 121.53788,\n",
      "       121.53713, 121.52954, 121.53464, 121.53756, 121.55391, 121.54011,\n",
      "       121.5432 , 121.55481, 121.49628, 121.5446 , 121.53778, 121.49507,\n",
      "       121.54262, 121.53456, 121.5273 , 121.49621, 121.54121, 121.56174,\n",
      "       121.5173 , 121.56627, 121.54312, 121.54069, 121.54477, 121.51158,\n",
      "       121.5399 , 121.54713, 121.54196, 121.5449 , 121.51728, 121.53692,\n",
      "       121.54271, 121.52091, 121.53559, 121.54119, 121.53655, 121.54265,\n",
      "       121.53743, 121.5417 , 121.53986, 121.51776, 121.53095, 121.50357,\n",
      "       121.53932, 121.51361, 121.54297, 121.53765, 121.52518, 121.54767,\n",
      "       121.5167 , 121.51329, 121.53923, 121.54814, 121.54273, 121.54928,\n",
      "       121.47516, 121.53917, 121.53018, 121.51623, 121.54395, 121.53151,\n",
      "       121.517  , 121.51359, 121.54522, 121.53046, 121.53994, 121.51642,\n",
      "       121.54086, 121.51844, 121.53644, 121.5428 , 121.53471, 121.534  ,\n",
      "       121.5414 , 121.51252, 121.5458 , 121.53992, 121.53445, 121.53423,\n",
      "       121.51668, 121.52979, 121.55174, 121.53814, 121.51812, 121.53872,\n",
      "       121.52981, 121.54436, 121.54971, 121.51696, 121.53475, 121.5346 ,\n",
      "       121.54063, 121.51748, 121.54651, 121.54331, 121.53265, 121.53597,\n",
      "       121.5155 , 121.47353, 121.51241, 121.50827, 121.52999, 121.55964,\n",
      "       121.54022, 121.54093, 121.53666, 121.51222, 121.55254, 121.51531,\n",
      "       121.53956, 121.55011, 121.51649, 121.54634, 121.53981, 121.51597,\n",
      "       121.53889, 121.51353, 121.5423 , 121.5435 , 121.55387, 121.53874,\n",
      "       121.4963 , 121.55063, 121.53966, 121.51243])}\n",
      "{'Number of bedrooms': array([1, 2, 3], dtype=int64)}\n",
      "{'House size (sqft)': array([ 575, 1240, 1060,  875,  491,  828, 1115, 1316,  588, 1075,  466,\n",
      "       1423, 1172,  928,  512, 1322, 1441,  568, 1291, 1223, 1487, 1496,\n",
      "       1437, 1262,  443, 1011, 1133,  941, 1130,  476, 1024, 1478,  978,\n",
      "        566, 1206, 1249, 1131,  511,  599, 1236,  558, 1333,  975,  447,\n",
      "       1314,  572,  557,  867,  470, 1227, 1077, 1016,  809,  421, 1193,\n",
      "       1036,  883,  548, 1167, 1046,  450, 1083, 1073, 1309,  862, 1351,\n",
      "       1144, 1425, 1303,  581,  927,  533, 1392, 1176, 1084,  492, 1308,\n",
      "        459,  958,  488, 1339, 1186, 1154, 1145,  515,  878,  915,  471,\n",
      "        954,  426,  536,  984, 1250, 1158, 1323,  514,  926,  879, 1028,\n",
      "        554,  570,  871,  913,  945, 1044,  847, 1136,  414, 1365, 1222,\n",
      "        441,  495, 1207, 1224,  840,  818,  493,  952,  472,  417, 1284,\n",
      "       1190,  565, 1166,  406, 1246, 1147,  453,  429, 1340,  538,  486,\n",
      "       1202, 1336,  422, 1356,  518, 1411,  540,  949, 1098,  870,  532,\n",
      "       1292, 1110,  477,  461,  970, 1400,  469, 1312, 1494, 1448, 1088,\n",
      "        580, 1342, 1462,  411,  842,  889, 1239,  503,  542, 1490, 1331,\n",
      "       1482, 1002,  923,  442,  516,  436, 1175,  996,  810, 1256, 1000,\n",
      "       1089, 1287, 1081,  537, 1368,  458,  410,  585,  544, 1100,  456,\n",
      "       1053,  452, 1349,  836, 1118, 1377, 1354,  586,  428, 1140, 1455,\n",
      "        583, 1187, 1270,  880,  462, 1380, 1204,  559,  569, 1189,  494,\n",
      "       1035, 1117,  578, 1244, 1074,  478, 1219,  506,  465, 1123, 1439,\n",
      "        420, 1164, 1120,  965, 1388, 1205, 1013,  513,  590,  475, 1395,\n",
      "        844,  541, 1373,  890, 1299, 1385, 1315, 1318,  440, 1034,  539,\n",
      "        897, 1470, 1469,  439, 1446, 1194, 1208,  876, 1330,  899, 1358,\n",
      "       1379, 1297,  543,  498, 1054,  914, 1305,  812,  490,  886,  433,\n",
      "       1491,  924, 1307, 1407,  402, 1235,  480,  594, 1124, 1343, 1498,\n",
      "        484, 1337,  817, 1173, 1031,  800, 1012,  839,  933, 1183, 1146,\n",
      "        524, 1007,  901,  424, 1319, 1021, 1071,  550, 1135, 1369,  589,\n",
      "       1350,  864, 1057, 1276, 1325, 1040, 1410, 1149, 1451, 1500, 1405,\n",
      "        505,  579, 1438, 1234,  413,  907, 1230,  425,  489,  964, 1247,\n",
      "        549, 1420,  808, 1268,  587,  803, 1278,  597, 1097], dtype=int64)}\n",
      "{'House price of unit area': array([ 37.9,  42.2,  47.3,  54.8,  43.1,  32.1,  40.3,  46.7,  18.8,\n",
      "        22.1,  41.4,  58.1,  39.3,  23.8,  34.3,  50.5,  70.1,  37.4,\n",
      "        42.3,  47.7,  29.3,  51.6,  24.6,  47.9,  38.8,  27. ,  56.2,\n",
      "        33.6,  47. ,  57.1,  25. ,  34.2,  49.3,  55.1,  27.3,  22.9,\n",
      "        25.3,  46.2,  15.9,  18.2,  34.7,  34.1,  53.9,  38.3,  42. ,\n",
      "        61.5,  13.4,  13.2,  44.2,  20.7,  38.9,  51.7,  13.7,  41.9,\n",
      "        53.5,  22.6,  42.4,  21.3,  63.2,  27.7,  55. ,  44.3,  50.7,\n",
      "        56.8,  36.2,  59. ,  40.8,  36.3,  20. ,  54.4,  29.5,  36.8,\n",
      "        25.6,  29.8,  26.5,  48.1,  17.7,  43.7,  50.8,  18.3,  48. ,\n",
      "        45.4,  43.2,  21.8,  16.1,  41. ,  51.8,  59.5,  34.6,  51. ,\n",
      "        62.2,  38.2,  32.9,  45.7,  30.5,  71. ,  47.1,  26.6,  28.4,\n",
      "        39.4,  23.1,   7.6,  53.3,  46.4,  12.2,  13. ,  30.6,  59.6,\n",
      "        31.3,  32.5,  45.5,  57.4,  48.6,  62.9,  60.7,  37.5,  30.7,\n",
      "        39.5,  20.8,  46.8,  47.4,  43.5,  42.5,  51.4,  28.9,  40.1,\n",
      "        52.2,  45.1,  39.7,  48.5,  44.7,  40.9,  15.6,  35.6,  57.8,\n",
      "        39.6,  11.6,  55.5,  55.2,  73.6,  43.4,  23.5,  14.4,  58.8,\n",
      "        35.1,  45.2,  36.5,  19.2,  36.7,  42.6,  15.5,  55.9,  23.6,\n",
      "        21.5,  25.7,  22. ,  20.5,  37.8,  42.7,  36.6,  48.2,  39.1,\n",
      "        31.6,  25.5,  45.9,  31.5,  46.1,  21.4,  44. ,  26.2,  31.1,\n",
      "        58. ,  20.9,  43.8,  40.2,  78.3,  38.5,  46. ,  49. ,  12.8,\n",
      "        46.6,  19. ,  33.4,  14.7,  17.4,  32.4,  23.9,  61.9,  39. ,\n",
      "        40.6,  29.7,  28.8,  21.7,  22.3,  15. ,  30. ,  13.8,  52.7,\n",
      "        25.9,  43.9,  63.3,  24.4,  53. ,  31.7,  38.1,  23.7,  41.1,\n",
      "        23. , 117.5,  40.5,  49.7,  34. ,  44.8,  34.4,  55.3,  56.3,\n",
      "        44.5,  37. ,  24.5,  28.5,  16.7,  36.9,  35.7,  23.2,  38.4,\n",
      "        29.4,  50.2,  24.7,  19.1,  78. ,  42.8,  41.6,  49.8,  26.9,\n",
      "        18.6,  37.7,  33.1,  62.1,  22.8,  30.9,  50.4,  42.9,  41.2,\n",
      "        30.8,  11.2,  53.7,  28.6,  30.1,  45.3,  44.9,  40. ,  24.8,\n",
      "        42.1,  41.5,  49.5,  69.7,  12.9,  67.7,  38.6,  35.3,  31.9,\n",
      "        32.2,  37.3,  35.5,  37.2,  28.1,  15.4,  50. ,  52.5,  63.9])}\n"
     ]
    }
   ],
   "source": [
    "# Finding any unique character in each columns\n",
    "for i in house.columns:\n",
    "    print({i:house[i].unique()})"
   ]
  },
  {
   "cell_type": "code",
   "execution_count": 6,
   "id": "314067e9",
   "metadata": {},
   "outputs": [
    {
     "data": {
      "text/plain": [
       "(414, 9)"
      ]
     },
     "execution_count": 6,
     "metadata": {},
     "output_type": "execute_result"
    }
   ],
   "source": [
    "# Finding the number of rows and columns in the data\n",
    "house.shape"
   ]
  },
  {
   "cell_type": "code",
   "execution_count": 7,
   "id": "5dbd9765",
   "metadata": {},
   "outputs": [
    {
     "data": {
      "image/png": "[encoded data removed]",
      "text/plain": [
       "<Figure size 432x288 with 1 Axes>"
      ]
     },
     "metadata": {
      "needs_background": "light"
     },
     "output_type": "display_data"
    },
    {
     "data": {
      "image/png": "[encoded data removed]",
      "text/plain": [
       "<Figure size 432x288 with 1 Axes>"
      ]
     },
     "metadata": {
      "needs_background": "light"
     },
     "output_type": "display_data"
    },
    {
     "data": {
      "image/png": "[encoded data removed]",
      "text/plain": [
       "<Figure size 432x288 with 1 Axes>"
      ]
     },
     "metadata": {
      "needs_background": "light"
     },
     "output_type": "display_data"
    },
    {
     "data": {
      "image/png": "[encoded data removed]",
      "text/plain": [
       "<Figure size 432x288 with 1 Axes>"
      ]
     },
     "metadata": {
      "needs_background": "light"
     },
     "output_type": "display_data"
    },
    {
     "data": {
      "image/png": "[encoded data removed]",
      "text/plain": [
       "<Figure size 432x288 with 1 Axes>"
      ]
     },
     "metadata": {
      "needs_background": "light"
     },
     "output_type": "display_data"
    },
    {
     "data": {
      "image/png": "[encoded data removed]",
      "text/plain": [
       "<Figure size 432x288 with 1 Axes>"
      ]
     },
     "metadata": {
      "needs_background": "light"
     },
     "output_type": "display_data"
    },
    {
     "data": {
      "image/png": "[encoded data removed]",
      "text/plain": [
       "<Figure size 432x288 with 1 Axes>"
      ]
     },
     "metadata": {
      "needs_background": "light"
     },
     "output_type": "display_data"
    },
    {
     "data": {
      "image/png": "[encoded data removed]",
      "text/plain": [
       "<Figure size 432x288 with 1 Axes>"
      ]
     },
     "metadata": {
      "needs_background": "light"
     },
     "output_type": "display_data"
    },
    {
     "data": {
      "image/png": "[encoded data removed]",
      "text/plain": [
       "<Figure size 432x288 with 1 Axes>"
      ]
     },
     "metadata": {
      "needs_background": "light"
     },
     "output_type": "display_data"
    }
   ],
   "source": [
    "#Assumption 1: There should be no outliers in the data\n",
    "#Check using boxplot\n",
    "for i in house.columns:\n",
    "    house.boxplot(column = i)\n",
    "    plt.show()"
   ]
  },
  {
   "cell_type": "markdown",
   "id": "d99c7cee",
   "metadata": {},
   "source": [
    "There are some outliers in some columns but the columns are very important and the data is very limited so making any treatment or droping the data point would manupulate the data so I'm keeping as it is. "
   ]
  },
  {
   "cell_type": "code",
   "execution_count": 8,
   "id": "8febd171",
   "metadata": {},
   "outputs": [
    {
     "data": {
      "text/plain": [
       "<seaborn.axisgrid.PairGrid at 0x1ffba778cd0>"
      ]
     },
     "execution_count": 8,
     "metadata": {},
     "output_type": "execute_result"
    },
    {
     "data": {
      "image/png": "[encoded data removed]",
      "text/plain": [
       "<Figure size 1260x180 with 7 Axes>"
      ]
     },
     "metadata": {
      "needs_background": "light"
     },
     "output_type": "display_data"
    }
   ],
   "source": [
    "#Assumption 2:Assumption of linearity:Every independent variable should have a \n",
    "#linear relationship with dependent variable\n",
    "sns.pairplot(house,x_vars=[\"House Age\",\"Distance from nearest Metro station (km)\",\"Number of convenience stores\",\n",
    "                          \"latitude\",\"longitude\",\"Number of bedrooms\",\"House size (sqft)\"],\n",
    "            y_vars=\"House price of unit area\",kind=\"reg\")"
   ]
  },
  {
   "cell_type": "markdown",
   "id": "12b1dd63",
   "metadata": {},
   "source": [
    "In this graph its shows that not every variable have a linear relationship with dependent variable but all the variable are important so keeping the data as it is "
   ]
  },
  {
   "cell_type": "code",
   "execution_count": 9,
   "id": "2c5a2aaa",
   "metadata": {},
   "outputs": [
    {
     "name": "stdout",
     "output_type": "stream",
     "text": [
      "(414, 8)\n",
      "(414, 1)\n"
     ]
    }
   ],
   "source": [
    "# Diving the data by creating X and Y \n",
    "# X has all the independent variable from the data\n",
    "# Y has the dependent variable from the data\n",
    "X = house[[\"Transaction date\",\"House Age\",\"Distance from nearest Metro station (km)\",\"Number of convenience stores\",\n",
    "           \"latitude\",\"longitude\",\"Number of bedrooms\",\"House size (sqft)\"]]\n",
    "Y = house[[\"House price of unit area\"]]\n",
    "print(X.shape)\n",
    "print(Y.shape)"
   ]
  },
  {
   "cell_type": "code",
   "execution_count": 10,
   "id": "4d35b0a5",
   "metadata": {},
   "outputs": [
    {
     "data": {
      "text/plain": [
       "<AxesSubplot:ylabel='Density'>"
      ]
     },
     "execution_count": 10,
     "metadata": {},
     "output_type": "execute_result"
    },
    {
     "data": {
      "image/png": "[encoded data removed]",
      "text/plain": [
       "<Figure size 432x288 with 1 Axes>"
      ]
     },
     "metadata": {
      "needs_background": "light"
     },
     "output_type": "display_data"
    }
   ],
   "source": [
    "#Assumption 3:Assumption of Normality: The dependent vafriable should follow on approximate normal distribution\n",
    "sns.distplot(Y)"
   ]
  },
  {
   "cell_type": "code",
   "execution_count": 11,
   "id": "72166c84",
   "metadata": {},
   "outputs": [
    {
     "name": "stdout",
     "output_type": "stream",
     "text": [
      "                                          Transaction date  House Age  \\\n",
      "Transaction date                                  1.000000   0.017542   \n",
      "House Age                                         0.017542   1.000000   \n",
      "Distance from nearest Metro station (km)          0.060880   0.025622   \n",
      "Number of convenience stores                      0.009544   0.049593   \n",
      "latitude                                          0.035016   0.054420   \n",
      "longitude                                        -0.041065  -0.048520   \n",
      "Number of bedrooms                                0.061985  -0.008756   \n",
      "House size (sqft)                                 0.068405  -0.060361   \n",
      "\n",
      "                                          Distance from nearest Metro station (km)  \\\n",
      "Transaction date                                                          0.060880   \n",
      "House Age                                                                 0.025622   \n",
      "Distance from nearest Metro station (km)                                  1.000000   \n",
      "Number of convenience stores                                             -0.602519   \n",
      "latitude                                                                 -0.591067   \n",
      "longitude                                                                -0.806317   \n",
      "Number of bedrooms                                                       -0.046856   \n",
      "House size (sqft)                                                         0.001795   \n",
      "\n",
      "                                          Number of convenience stores  \\\n",
      "Transaction date                                              0.009544   \n",
      "House Age                                                     0.049593   \n",
      "Distance from nearest Metro station (km)                     -0.602519   \n",
      "Number of convenience stores                                  1.000000   \n",
      "latitude                                                      0.444143   \n",
      "longitude                                                     0.449099   \n",
      "Number of bedrooms                                            0.043638   \n",
      "House size (sqft)                                             0.033286   \n",
      "\n",
      "                                          latitude  longitude  \\\n",
      "Transaction date                          0.035016  -0.041065   \n",
      "House Age                                 0.054420  -0.048520   \n",
      "Distance from nearest Metro station (km) -0.591067  -0.806317   \n",
      "Number of convenience stores              0.444143   0.449099   \n",
      "latitude                                  1.000000   0.412924   \n",
      "longitude                                 0.412924   1.000000   \n",
      "Number of bedrooms                        0.043921   0.041680   \n",
      "House size (sqft)                         0.031696   0.009322   \n",
      "\n",
      "                                          Number of bedrooms  \\\n",
      "Transaction date                                    0.061985   \n",
      "House Age                                          -0.008756   \n",
      "Distance from nearest Metro station (km)           -0.046856   \n",
      "Number of convenience stores                        0.043638   \n",
      "latitude                                            0.043921   \n",
      "longitude                                           0.041680   \n",
      "Number of bedrooms                                  1.000000   \n",
      "House size (sqft)                                   0.752276   \n",
      "\n",
      "                                          House size (sqft)  \n",
      "Transaction date                                   0.068405  \n",
      "House Age                                         -0.060361  \n",
      "Distance from nearest Metro station (km)           0.001795  \n",
      "Number of convenience stores                       0.033286  \n",
      "latitude                                           0.031696  \n",
      "longitude                                          0.009322  \n",
      "Number of bedrooms                                 0.752276  \n",
      "House size (sqft)                                  1.000000  \n"
     ]
    },
    {
     "data": {
      "text/plain": [
       "<AxesSubplot:>"
      ]
     },
     "execution_count": 11,
     "metadata": {},
     "output_type": "execute_result"
    },
    {
     "data": {
      "image/png": "[encoded data removed]",
      "text/plain": [
       "<Figure size 576x432 with 2 Axes>"
      ]
     },
     "metadata": {
      "needs_background": "light"
     },
     "output_type": "display_data"
    }
   ],
   "source": [
    "#Assumption 4:Assumption of multicollinearity: There should be no multicollinearity between the independent variables\n",
    "import numpy as np\n",
    "corr_df = X.corr(method=\"pearson\")\n",
    "print(corr_df)\n",
    "plt.figure(figsize=(8,6))\n",
    "sns.heatmap(corr_df,vmax=1.0,vmin=-1.0,annot=True)"
   ]
  },
  {
   "cell_type": "markdown",
   "id": "1614144d",
   "metadata": {},
   "source": [
    "There is multicollinearity between some the independent variables but the variables are important so keeping the data as it is"
   ]
  },
  {
   "cell_type": "code",
   "execution_count": 12,
   "id": "1247923b",
   "metadata": {},
   "outputs": [
    {
     "data": {
      "text/html": [
       "<div>\n",
       "<style scoped>\n",
       "    .dataframe tbody tr th:only-of-type {\n",
       "        vertical-align: middle;\n",
       "    }\n",
       "\n",
       "    .dataframe tbody tr th {\n",
       "        vertical-align: top;\n",
       "    }\n",
       "\n",
       "    .dataframe thead th {\n",
       "        text-align: right;\n",
       "    }\n",
       "</style>\n",
       "<table border=\"1\" class=\"dataframe\">\n",
       "  <thead>\n",
       "    <tr style=\"text-align: right;\">\n",
       "      <th></th>\n",
       "      <th>features</th>\n",
       "      <th>VIF Factor</th>\n",
       "    </tr>\n",
       "  </thead>\n",
       "  <tbody>\n",
       "    <tr>\n",
       "      <th>0</th>\n",
       "      <td>Transaction date</td>\n",
       "      <td>42641620.46</td>\n",
       "    </tr>\n",
       "    <tr>\n",
       "      <th>1</th>\n",
       "      <td>House Age</td>\n",
       "      <td>3.50</td>\n",
       "    </tr>\n",
       "    <tr>\n",
       "      <th>2</th>\n",
       "      <td>Distance from nearest Metro station (km)</td>\n",
       "      <td>4.29</td>\n",
       "    </tr>\n",
       "    <tr>\n",
       "      <th>3</th>\n",
       "      <td>Number of convenience stores</td>\n",
       "      <td>4.76</td>\n",
       "    </tr>\n",
       "    <tr>\n",
       "      <th>4</th>\n",
       "      <td>latitude</td>\n",
       "      <td>6184837.05</td>\n",
       "    </tr>\n",
       "    <tr>\n",
       "      <th>5</th>\n",
       "      <td>longitude</td>\n",
       "      <td>42120560.60</td>\n",
       "    </tr>\n",
       "    <tr>\n",
       "      <th>6</th>\n",
       "      <td>Number of bedrooms</td>\n",
       "      <td>16.08</td>\n",
       "    </tr>\n",
       "    <tr>\n",
       "      <th>7</th>\n",
       "      <td>House size (sqft)</td>\n",
       "      <td>19.03</td>\n",
       "    </tr>\n",
       "  </tbody>\n",
       "</table>\n",
       "</div>"
      ],
      "text/plain": [
       "                                   features   VIF Factor\n",
       "0                          Transaction date  42641620.46\n",
       "1                                 House Age         3.50\n",
       "2  Distance from nearest Metro station (km)         4.29\n",
       "3              Number of convenience stores         4.76\n",
       "4                                  latitude   6184837.05\n",
       "5                                 longitude  42120560.60\n",
       "6                        Number of bedrooms        16.08\n",
       "7                         House size (sqft)        19.03"
      ]
     },
     "execution_count": 12,
     "metadata": {},
     "output_type": "execute_result"
    }
   ],
   "source": [
    "# Used VIF to see amount of multicollinearity\n",
    "from statsmodels.stats.outliers_influence import variance_inflation_factor as vif\n",
    "\n",
    "vif_df = pd.DataFrame()\n",
    "vif_df[\"features\"] = X.columns\n",
    "vif_df[\"VIF Factor\"] = [vif(X.values, i) for i in range(X.shape[1])]\n",
    "vif_df.round(2)"
   ]
  },
  {
   "cell_type": "code",
   "execution_count": 13,
   "id": "0729d8cf",
   "metadata": {},
   "outputs": [
    {
     "name": "stdout",
     "output_type": "stream",
     "text": [
      "[[-0.82472165  1.25562833 -0.79249504 ...  0.44876222 -1.20789893\n",
      "  -1.0229196 ]\n",
      " [-0.82472165  0.15708622 -0.61661163 ...  0.40113894  0.01476649\n",
      "   0.88532059]\n",
      " [ 1.54224386 -0.38779067 -0.41401527 ...  0.68818339  1.23743191\n",
      "   0.36880445]\n",
      " ...\n",
      " [ 0.35876111  0.09556786 -0.54967846 ...  0.42397202 -1.20789893\n",
      "  -1.22952606]\n",
      " [-0.52885105 -0.84478419 -0.77668389 ...  0.4768143  -1.20789893\n",
      "  -0.95978985]\n",
      " [ 1.24637326 -0.98539758 -0.78807071 ...  0.63534112  0.01476649\n",
      "   0.47497721]]\n"
     ]
    }
   ],
   "source": [
    "# Scaling the data using scaler\n",
    "# This is done to bring all the variable to follow a uniform range of values & to make the data unit less\n",
    "from sklearn.preprocessing import StandardScaler\n",
    "scaler=StandardScaler()\n",
    "X=scaler.fit_transform(X)\n",
    "print(X)"
   ]
  },
  {
   "cell_type": "code",
   "execution_count": 14,
   "id": "245e2e51",
   "metadata": {},
   "outputs": [],
   "source": [
    "#Split the data into test and train\n",
    "from sklearn.model_selection import train_test_split\n",
    "X_train, X_test, Y_train, Y_test = train_test_split(X,Y, test_size=0.2, random_state=42)"
   ]
  },
  {
   "cell_type": "code",
   "execution_count": 15,
   "id": "ea2411a2",
   "metadata": {},
   "outputs": [
    {
     "name": "stdout",
     "output_type": "stream",
     "text": [
      "(331, 8)\n",
      "(83, 8)\n",
      "(331, 1)\n",
      "(83, 1)\n"
     ]
    }
   ],
   "source": [
    "print(X_train.shape)\n",
    "print(X_test.shape)\n",
    "print(Y_train.shape)\n",
    "print(Y_test.shape) "
   ]
  },
  {
   "cell_type": "code",
   "execution_count": 16,
   "id": "a3e504fb",
   "metadata": {},
   "outputs": [
    {
     "name": "stdout",
     "output_type": "stream",
     "text": [
      "[37.94447914]\n",
      "[[ 1.50147935 -3.03431806 -6.0596225   3.16704291  2.80307778 -0.48952474\n",
      "  -0.13122324  0.68103089]]\n"
     ]
    }
   ],
   "source": [
    "from sklearn.linear_model import LinearRegression \n",
    "lm = LinearRegression()\n",
    "#train the model \n",
    "lm.fit(X_train,Y_train)\n",
    "#print intercept and coefficients\n",
    "print(lm.intercept_)\n",
    "print(lm.coef_)"
   ]
  },
  {
   "cell_type": "code",
   "execution_count": 17,
   "id": "7a0fbea0",
   "metadata": {},
   "outputs": [
    {
     "name": "stdout",
     "output_type": "stream",
     "text": [
      "[[47.98193109]\n",
      " [41.58475049]\n",
      " [44.74158856]\n",
      " [39.56897075]\n",
      " [28.25053404]\n",
      " [45.95143148]\n",
      " [44.0919186 ]\n",
      " [45.58565259]\n",
      " [23.19962394]\n",
      " [53.99632906]\n",
      " [33.3527738 ]\n",
      " [35.91421845]\n",
      " [37.12757148]\n",
      " [23.52613996]\n",
      " [34.59537373]\n",
      " [34.3241122 ]\n",
      " [43.07096884]\n",
      " [45.78272464]\n",
      " [29.54129243]\n",
      " [44.48001626]\n",
      " [ 0.09632641]\n",
      " [35.26265041]\n",
      " [48.20531164]\n",
      " [44.59399262]\n",
      " [12.25116873]\n",
      " [39.17451474]\n",
      " [13.30012487]\n",
      " [42.98283261]\n",
      " [35.16554573]\n",
      " [37.09536034]\n",
      " [13.38847511]\n",
      " [40.49107102]\n",
      " [34.57686166]\n",
      " [27.81469396]\n",
      " [45.7762212 ]\n",
      " [31.72811004]\n",
      " [49.9903972 ]\n",
      " [13.71693019]\n",
      " [49.20278582]\n",
      " [39.47867244]\n",
      " [39.01012474]\n",
      " [40.52337469]\n",
      " [46.45281893]\n",
      " [37.10791124]\n",
      " [39.64462448]\n",
      " [46.11604499]\n",
      " [43.60828356]\n",
      " [20.12292684]\n",
      " [48.10574885]\n",
      " [45.52201989]\n",
      " [47.49419588]\n",
      " [48.17097011]\n",
      " [42.93911788]\n",
      " [41.97345051]\n",
      " [35.44435403]\n",
      " [15.30768334]\n",
      " [36.59219716]\n",
      " [35.78084157]\n",
      " [29.13738539]\n",
      " [46.28620579]\n",
      " [33.79556845]\n",
      " [32.26060737]\n",
      " [15.69481745]\n",
      " [ 9.76979651]\n",
      " [10.10872277]\n",
      " [35.08090529]\n",
      " [29.35314315]\n",
      " [45.92493889]\n",
      " [32.33565662]\n",
      " [31.79231441]\n",
      " [46.51019016]\n",
      " [38.84018078]\n",
      " [45.23138709]\n",
      " [44.92118426]\n",
      " [34.1581331 ]\n",
      " [36.9809184 ]\n",
      " [38.62431706]\n",
      " [37.25075439]\n",
      " [41.44686186]\n",
      " [33.01820255]\n",
      " [41.55228084]\n",
      " [42.749292  ]\n",
      " [27.7139434 ]]\n"
     ]
    }
   ],
   "source": [
    "#predict using the model\n",
    "Y_pred=lm.predict(X_test)\n",
    "print(Y_pred)"
   ]
  },
  {
   "cell_type": "code",
   "execution_count": 18,
   "id": "dd49a61b",
   "metadata": {},
   "outputs": [
    {
     "name": "stdout",
     "output_type": "stream",
     "text": [
      "R-squared: 0.6687873935940528\n",
      "RMSE: 7.454135914547555\n",
      "Adj R-square: 0.6622449223564044\n"
     ]
    }
   ],
   "source": [
    "# Evaluation of the model\n",
    "from sklearn.metrics import r2_score,mean_squared_error\n",
    "\n",
    "r2=r2_score(Y_test,Y_pred)\n",
    "print(\"R-squared:\",r2)\n",
    "\n",
    "rmse=np.sqrt(mean_squared_error(Y_test,Y_pred))\n",
    "print(\"RMSE:\",rmse)\n",
    "\n",
    "adjusted_r_squared = 1 - (1-r2)*(len(Y)-1)/(len(Y)-X.shape[1]-1)\n",
    "print(\"Adj R-square:\",adjusted_r_squared)"
   ]
  },
  {
   "cell_type": "markdown",
   "id": "e4455ade",
   "metadata": {},
   "source": [
    "Linear Regression is giving 66.22% of Adj R-square.\n",
    "\n",
    "The model is not giving a good result. \n",
    "\n",
    "Linear Regression:\n",
    "\n",
    "1) The assumption of linearity between independent and dependent variables.\n",
    "\n",
    "2) It gets affected due to outliers.\n",
    "\n",
    "3) It is prone to multicollinearity."
   ]
  },
  {
   "cell_type": "code",
   "execution_count": 19,
   "id": "fc33dacc",
   "metadata": {},
   "outputs": [
    {
     "name": "stdout",
     "output_type": "stream",
     "text": [
      "[37.94473041]\n",
      "[[ 1.49442673 -3.02502903 -5.99441794  3.17183193  2.80978161 -0.44194428\n",
      "  -0.1240942   0.67414832]]\n"
     ]
    }
   ],
   "source": [
    "from sklearn.linear_model import Ridge\n",
    "lm = Ridge()\n",
    "lm.fit(X_train,Y_train)\n",
    "print(lm.intercept_)\n",
    "print(lm.coef_)"
   ]
  },
  {
   "cell_type": "code",
   "execution_count": 20,
   "id": "c3f42f4a",
   "metadata": {},
   "outputs": [],
   "source": [
    "#predict using the model\n",
    "Y_pred=lm.predict(X_test)"
   ]
  },
  {
   "cell_type": "code",
   "execution_count": 21,
   "id": "b311af0b",
   "metadata": {},
   "outputs": [
    {
     "name": "stdout",
     "output_type": "stream",
     "text": [
      "R-squared: 0.6691735616522323\n",
      "RMSE: 7.449789176732833\n",
      "Adj R-square: 0.6626387184256097\n"
     ]
    }
   ],
   "source": [
    "from sklearn.metrics import r2_score,mean_squared_error\n",
    "\n",
    "r2=r2_score(Y_test,Y_pred)\n",
    "print(\"R-squared:\",r2)\n",
    "\n",
    "rmse=np.sqrt(mean_squared_error(Y_test,Y_pred))\n",
    "print(\"RMSE:\",rmse)\n",
    "\n",
    "adjusted_r_squared = 1 - (1-r2)*(len(Y)-1)/(len(Y)-X.shape[1]-1)\n",
    "print(\"Adj R-square:\",adjusted_r_squared)"
   ]
  },
  {
   "cell_type": "markdown",
   "id": "adb28405",
   "metadata": {},
   "source": [
    "Ridge is giving 66.26% Adj R-square. \n",
    "\n",
    "The model is giving almost similar results to Linear Regression. \n",
    "\n",
    "Ridge is similar to Linear Regression.\n",
    "\n",
    "But it identifies the insignificant variables and reduces their coefficient values such that the overall impact of these variables on the model is reduced."
   ]
  },
  {
   "cell_type": "code",
   "execution_count": 22,
   "id": "ffada2c2",
   "metadata": {},
   "outputs": [
    {
     "name": "stdout",
     "output_type": "stream",
     "text": [
      "[38.0846193]\n",
      "[ 0.46808999 -2.01411055 -5.17067538  2.6500132   2.33504932  0.\n",
      "  0.          0.        ]\n"
     ]
    }
   ],
   "source": [
    "from sklearn.linear_model import Lasso\n",
    "lm = Lasso()\n",
    "lm.fit(X_train,Y_train)\n",
    "print(lm.intercept_)\n",
    "print(lm.coef_)"
   ]
  },
  {
   "cell_type": "code",
   "execution_count": 23,
   "id": "da238651",
   "metadata": {},
   "outputs": [],
   "source": [
    "#predict using the model\n",
    "Y_pred=lm.predict(X_test)"
   ]
  },
  {
   "cell_type": "code",
   "execution_count": 24,
   "id": "0bcdc088",
   "metadata": {},
   "outputs": [
    {
     "name": "stdout",
     "output_type": "stream",
     "text": [
      "R-squared: 0.6673838839446087\n",
      "RMSE: 7.469912626849806\n",
      "Adj R-square: 0.660813689059564\n"
     ]
    }
   ],
   "source": [
    "from sklearn.metrics import r2_score,mean_squared_error\n",
    "\n",
    "r2=r2_score(Y_test,Y_pred)\n",
    "print(\"R-squared:\",r2)\n",
    "\n",
    "rmse=np.sqrt(mean_squared_error(Y_test,Y_pred))\n",
    "print(\"RMSE:\",rmse)\n",
    "\n",
    "adjusted_r_squared = 1 - (1-r2)*(len(Y)-1)/(len(Y)-X.shape[1]-1)\n",
    "print(\"Adj R-square:\",adjusted_r_squared)"
   ]
  },
  {
   "cell_type": "markdown",
   "id": "5e15e623",
   "metadata": {},
   "source": [
    "Lasso is giving 66.08% Adj R-square.\n",
    "\n",
    "This model is also giving similar results to Linear Regression.\n",
    "\n",
    "Lasso is also similar to Linear Regression.\n",
    "\n",
    "But it identifies the insignificant variables and forces their coefficients values to be zero, such that the overall impact of these variables on the model is eliminated."
   ]
  },
  {
   "cell_type": "code",
   "execution_count": 25,
   "id": "b8fc4951",
   "metadata": {},
   "outputs": [
    {
     "name": "stdout",
     "output_type": "stream",
     "text": [
      "[38.68285142]\n",
      "[ 1.55930081 -3.04247571 -6.29905212  2.69708444  3.05134401 -0.61734006\n",
      "  0.47005707  1.18480757]\n"
     ]
    }
   ],
   "source": [
    "from sklearn.linear_model import SGDRegressor\n",
    "\n",
    "lm = SGDRegressor(learning_rate=\"constant\",  \n",
    "                  eta0=0.01,  \n",
    "                  shuffle=True, \n",
    "                  random_state=42, \n",
    "                  max_iter=1000,\n",
    "                  early_stopping=True, \n",
    "                  n_iter_no_change=5) \n",
    "lm.fit(X_train,Y_train)\n",
    "print (lm.intercept_)\n",
    "print (lm.coef_)"
   ]
  },
  {
   "cell_type": "code",
   "execution_count": 26,
   "id": "682f6f74",
   "metadata": {},
   "outputs": [
    {
     "name": "stdout",
     "output_type": "stream",
     "text": [
      "R-squared: 0.6326461175367928\n",
      "RMSE: 7.850298941476655\n",
      "Adj R-square: 0.6253897445498653\n"
     ]
    }
   ],
   "source": [
    "Y_pred_new = lm.predict(X_test)\n",
    "r2=r2_score(Y_test,Y_pred_new)\n",
    "print(\"R-squared:\",r2)\n",
    "\n",
    "rmse=np.sqrt(mean_squared_error(Y_test,Y_pred_new))\n",
    "print(\"RMSE:\",rmse)\n",
    "\n",
    "adjusted_r_squared = 1 - (1-r2)*(len(Y)-1)/(len(Y)-X.shape[1]-1)\n",
    "print(\"Adj R-square:\",adjusted_r_squared)"
   ]
  },
  {
   "cell_type": "markdown",
   "id": "f75a85ef",
   "metadata": {},
   "source": [
    "SGDRegressor is giving 62.54% Adj R-square.\n",
    "\n",
    "This model is performing low as compared to Linear Regression.\n",
    "\n",
    "SGDRegressor:\n",
    "\n",
    "1) Due to frequent updates, the steps taken towards the minima are very noisy. This can often lead the gradient descent into other directions.\n",
    "\n",
    "2) Frequent updates are computationally expensive due to using all resources for processing one training sample at a time.\n",
    "\n",
    "3) Also, due to noisy steps, it may take longer to achieve convergence to the minima of the loss function."
   ]
  },
  {
   "cell_type": "code",
   "execution_count": 27,
   "id": "983e1c75",
   "metadata": {},
   "outputs": [
    {
     "name": "stdout",
     "output_type": "stream",
     "text": [
      "[('House price of unit area', array([47.72222222]))]\n"
     ]
    }
   ],
   "source": [
    "from sklearn.neighbors import KNeighborsRegressor\n",
    "model_KNN=KNeighborsRegressor(n_neighbors=int(np.sqrt(len(X_train))),metric=\"manhattan\")\n",
    "model_KNN.fit(X_train,Y_train)\n",
    "Y_pred=model_KNN.predict(X_test)\n",
    "print(list(zip(Y_test,Y_pred)))"
   ]
  },
  {
   "cell_type": "code",
   "execution_count": 28,
   "id": "4bef1d5e",
   "metadata": {},
   "outputs": [
    {
     "name": "stdout",
     "output_type": "stream",
     "text": [
      "R-squared: 0.7268817302757121\n",
      "RMSE: 6.768918019355766\n",
      "Adj R-square: 0.7214868014910348\n"
     ]
    }
   ],
   "source": [
    "r2=r2_score(Y_test,Y_pred)\n",
    "print(\"R-squared:\",r2)\n",
    "\n",
    "rmse=np.sqrt(mean_squared_error(Y_test,Y_pred))\n",
    "print(\"RMSE:\",rmse)\n",
    "\n",
    "adjusted_r_squared = 1 - (1-r2)*(len(Y)-1)/(len(Y)-X.shape[1]-1)\n",
    "print(\"Adj R-square:\",adjusted_r_squared)"
   ]
  },
  {
   "cell_type": "code",
   "execution_count": 29,
   "id": "0558356a",
   "metadata": {},
   "outputs": [
    {
     "name": "stdout",
     "output_type": "stream",
     "text": [
      "R-square is 0.6425955913284114 for K-Value: 1\n",
      "R-square is 0.6224193622466127 for K-Value: 2\n",
      "R-square is 0.7417256907941698 for K-Value: 3\n",
      "R-square is 0.7406587275938653 for K-Value: 4\n",
      "R-square is 0.7567172869758029 for K-Value: 5\n",
      "R-square is 0.757597978459542 for K-Value: 6\n",
      "R-square is 0.7553484144721127 for K-Value: 7\n",
      "R-square is 0.7568646254803422 for K-Value: 8\n",
      "R-square is 0.7541956871879697 for K-Value: 9\n",
      "R-square is 0.7494629869555415 for K-Value: 10\n",
      "R-square is 0.7553629207915196 for K-Value: 11\n",
      "R-square is 0.7459226531066404 for K-Value: 12\n",
      "R-square is 0.7403589901787965 for K-Value: 13\n",
      "R-square is 0.7444873278889672 for K-Value: 14\n",
      "R-square is 0.7380696495433994 for K-Value: 15\n",
      "R-square is 0.7267402683167774 for K-Value: 16\n",
      "R-square is 0.7271158177499955 for K-Value: 17\n",
      "R-square is 0.7268817302757121 for K-Value: 18\n",
      "R-square is 0.723786770175898 for K-Value: 19\n",
      "R-square is 0.7183244855043651 for K-Value: 20\n",
      "R-square is 0.7115919214249642 for K-Value: 21\n",
      "R-square is 0.710193401871665 for K-Value: 22\n",
      "R-square is 0.7055599296894226 for K-Value: 23\n",
      "R-square is 0.6964164206846108 for K-Value: 24\n",
      "R-square is 0.6950938988084835 for K-Value: 25\n",
      "R-square is 0.6922405529070408 for K-Value: 26\n",
      "R-square is 0.6837681289090215 for K-Value: 27\n",
      "R-square is 0.6837163112169788 for K-Value: 28\n",
      "R-square is 0.6762218981327448 for K-Value: 29\n",
      "R-square is 0.6753933812740858 for K-Value: 30\n",
      "R-square is 0.6746480756610143 for K-Value: 31\n",
      "R-square is 0.6746888680409218 for K-Value: 32\n",
      "R-square is 0.675685818328805 for K-Value: 33\n",
      "R-square is 0.6768591727923519 for K-Value: 34\n",
      "R-square is 0.672084337003167 for K-Value: 35\n",
      "R-square is 0.6736487308691892 for K-Value: 36\n",
      "R-square is 0.6651856467095504 for K-Value: 37\n",
      "R-square is 0.6623128472909445 for K-Value: 38\n",
      "R-square is 0.66202507206127 for K-Value: 39\n",
      "R-square is 0.6567460747038619 for K-Value: 40\n",
      "R-square is 0.6572679915587833 for K-Value: 41\n",
      "R-square is 0.6499716481259901 for K-Value: 42\n",
      "R-square is 0.6482155522505237 for K-Value: 43\n",
      "R-square is 0.6460552706959168 for K-Value: 44\n",
      "R-square is 0.6425546979023269 for K-Value: 45\n",
      "R-square is 0.6405158890374782 for K-Value: 46\n",
      "R-square is 0.6410437707145682 for K-Value: 47\n",
      "R-square is 0.6425748370081912 for K-Value: 48\n",
      "R-square is 0.6383259173745119 for K-Value: 49\n",
      "R-square is 0.6290828241986774 for K-Value: 50\n",
      "R-square is 0.6292539487665534 for K-Value: 51\n",
      "R-square is 0.6253894223970393 for K-Value: 52\n",
      "R-square is 0.6223353648088783 for K-Value: 53\n",
      "R-square is 0.6218840291927978 for K-Value: 54\n",
      "R-square is 0.6179238267316298 for K-Value: 55\n",
      "R-square is 0.6145810727667376 for K-Value: 56\n",
      "R-square is 0.6147354434332566 for K-Value: 57\n",
      "R-square is 0.6121167680833057 for K-Value: 58\n",
      "R-square is 0.6068313760368091 for K-Value: 59\n",
      "R-square is 0.6049201182142541 for K-Value: 60\n"
     ]
    }
   ],
   "source": [
    "from sklearn.metrics import accuracy_score\n",
    "my_dict={}\n",
    "for K in range(1,61):\n",
    "    model_KNN = KNeighborsRegressor(n_neighbors=K,metric=\"manhattan\")\n",
    "    model_KNN.fit(X_train, Y_train) \n",
    "    Y_pred = model_KNN.predict(X_test)\n",
    "    print (\"R-square is\", r2_score(Y_test,Y_pred), \"for K-Value:\",K)"
   ]
  },
  {
   "cell_type": "code",
   "execution_count": 30,
   "id": "2caec4c6",
   "metadata": {},
   "outputs": [
    {
     "name": "stdout",
     "output_type": "stream",
     "text": [
      "[('House price of unit area', array([46.75]))]\n"
     ]
    }
   ],
   "source": [
    "from sklearn.neighbors import KNeighborsRegressor\n",
    "model_KNN=KNeighborsRegressor(n_neighbors=6,metric=\"manhattan\")\n",
    "model_KNN.fit(X_train,Y_train)\n",
    "Y_pred=model_KNN.predict(X_test)\n",
    "print(list(zip(Y_test,Y_pred)))"
   ]
  },
  {
   "cell_type": "code",
   "execution_count": 31,
   "id": "c1fd5c15",
   "metadata": {},
   "outputs": [
    {
     "name": "stdout",
     "output_type": "stream",
     "text": [
      "R-squared: 0.757597978459542\n",
      "RMSE: 6.3769350949197605\n",
      "Adj R-square: 0.7528097903797305\n"
     ]
    }
   ],
   "source": [
    "r2=r2_score(Y_test,Y_pred)\n",
    "print(\"R-squared:\",r2)\n",
    "\n",
    "rmse=np.sqrt(mean_squared_error(Y_test,Y_pred))\n",
    "print(\"RMSE:\",rmse)\n",
    "\n",
    "adjusted_r_squared = 1 - (1-r2)*(len(Y)-1)/(len(Y)-X.shape[1]-1)\n",
    "print(\"Adj R-square:\",adjusted_r_squared)"
   ]
  },
  {
   "cell_type": "markdown",
   "id": "b7c93e2e",
   "metadata": {},
   "source": [
    "KNeighborsRegressor is giving 75.28% Adj R-square.\n",
    "\n",
    "This model is giving good results as compared to Linear Regression.\n",
    "\n",
    "KNeighborsRegressor:\n",
    "\n",
    "1) It is a lazy algorithm because it will simply load the data into a memory table.\n",
    "\n",
    "2) It basically stores all of the training and can be computationally expensive."
   ]
  },
  {
   "cell_type": "code",
   "execution_count": 32,
   "id": "94346489",
   "metadata": {},
   "outputs": [
    {
     "name": "stdout",
     "output_type": "stream",
     "text": [
      "[46.5517574  40.04516188 41.12638634 36.49664363 28.65930878 39.87276728\n",
      " 42.53890208 43.19743919 26.31293322 46.88077412 28.92253561 28.75966643\n",
      " 35.74296721 26.10619418 36.15224264 28.78109487 41.06445382 42.68691716\n",
      " 26.57341458 44.18356846 28.60812306 27.76172488 48.29565029 40.34139104\n",
      " 23.6130653  36.42209274 21.68744745 40.35647821 35.72751001 37.889962\n",
      " 21.78870502 34.0571937  36.19380092 24.38710415 43.97961375 32.99963303\n",
      " 44.56961509 23.38981048 41.82989506 39.58767484 36.96634645 39.48476943\n",
      " 41.27040797 36.41343007 39.47148094 44.31042803 44.48914329 28.12651321\n",
      " 44.50420095 41.42460269 42.71235561 44.26081164 40.07908206 41.34697991\n",
      " 34.91611155 22.82865314 35.12907958 36.02275623 25.78586313 46.13556449\n",
      " 27.60382867 30.80850285 21.16104406 24.30238293 30.06758886 28.72284856\n",
      " 28.7400737  42.89123303 34.2924095  26.59193849 44.44443972 36.54449774\n",
      " 41.24345892 44.09600201 36.10279387 35.37519963 36.4065677  36.45295175\n",
      " 38.91614977 32.63473078 39.45284083 40.71940828 29.27445432]\n"
     ]
    }
   ],
   "source": [
    "from sklearn.svm import SVR\n",
    "reg = SVR()\n",
    "reg.fit(X_train,Y_train)\n",
    "Y_pred = reg.predict(X_test)\n",
    "print(Y_pred)"
   ]
  },
  {
   "cell_type": "code",
   "execution_count": 33,
   "id": "e0ac90f4",
   "metadata": {},
   "outputs": [
    {
     "name": "stdout",
     "output_type": "stream",
     "text": [
      "R-squared: 0.6106089672378303\n",
      "RMSE: 8.082335069437406\n",
      "Adj R-square: 0.6029172925166022\n"
     ]
    }
   ],
   "source": [
    "r2=r2_score(Y_test,Y_pred)\n",
    "print(\"R-squared:\",r2)\n",
    "\n",
    "rmse=np.sqrt(mean_squared_error(Y_test,Y_pred))\n",
    "print(\"RMSE:\",rmse)\n",
    "\n",
    "adjusted_r_squared = 1 - (1-r2)*(len(Y)-1)/(len(Y)-X.shape[1]-1)\n",
    "print(\"Adj R-square:\",adjusted_r_squared)"
   ]
  },
  {
   "cell_type": "code",
   "execution_count": 34,
   "id": "c5e5f821",
   "metadata": {},
   "outputs": [],
   "source": [
    "from sklearn import svm\n",
    "\n",
    "svc_model = svm.SVR(kernel=\"rbf\")\n",
    "\n",
    "parameter_space = {\n",
    "    'kernel' : [\"linear\",\"rbf\",\"poly\",\"sigmoid\"],\n",
    "    \"gamma\" : [0.1,0.01,0.001],\n",
    "    \"C\" : [1,5,8,10,20]\n",
    "}\n",
    "from sklearn.model_selection import GridSearchCV\n",
    "clf = GridSearchCV(svc_model, parameter_space, n_jobs=-1, cv=5)"
   ]
  },
  {
   "cell_type": "code",
   "execution_count": 35,
   "id": "2b024057",
   "metadata": {},
   "outputs": [
    {
     "data": {
      "text/plain": [
       "GridSearchCV(cv=5, estimator=SVR(), n_jobs=-1,\n",
       "             param_grid={'C': [1, 5, 8, 10, 20], 'gamma': [0.1, 0.01, 0.001],\n",
       "                         'kernel': ['linear', 'rbf', 'poly', 'sigmoid']})"
      ]
     },
     "execution_count": 35,
     "metadata": {},
     "output_type": "execute_result"
    }
   ],
   "source": [
    "clf.fit(X_train,Y_train)"
   ]
  },
  {
   "cell_type": "code",
   "execution_count": 36,
   "id": "d268bc87",
   "metadata": {},
   "outputs": [
    {
     "name": "stdout",
     "output_type": "stream",
     "text": [
      "Best parameters found:\n",
      " {'C': 20, 'gamma': 0.1, 'kernel': 'rbf'}\n"
     ]
    }
   ],
   "source": [
    "print('Best parameters found:\\n', clf.best_params_)"
   ]
  },
  {
   "cell_type": "code",
   "execution_count": 37,
   "id": "cd902fc2",
   "metadata": {},
   "outputs": [
    {
     "name": "stdout",
     "output_type": "stream",
     "text": [
      "[52.06600501 37.27385357 51.81233239 42.58751582 25.05743227 38.37861582\n",
      " 43.08251804 46.11538343 22.35275429 58.33159124 27.34153405 28.87070564\n",
      " 34.73799427 19.54687264 36.97259486 26.12111015 42.62393187 47.31411654\n",
      " 23.96813827 40.30370575 15.61130787 24.63284815 53.39822636 45.44934339\n",
      " 15.15051931 42.47493891 13.54149545 48.10265767 38.12749836 40.80706419\n",
      " 16.62806782 32.9921157  38.27685787 20.09560933 45.21032041 37.69170751\n",
      " 48.73705146 21.09363925 43.81810384 44.83190085 39.57558785 35.47381326\n",
      " 41.92010299 37.92278076 38.17640865 45.77438454 43.03132324 25.15879469\n",
      " 51.45127966 46.6641543  50.3893357  51.09000517 38.34429607 40.90640341\n",
      " 35.13119284 18.56859535 34.59065891 37.69818578 23.46603791 47.83179433\n",
      " 27.0205999  29.11714682 15.28265847 12.60476735 24.02211634 27.42081332\n",
      " 27.71111    46.179455   36.79652176 24.3072892  43.42121011 37.8963609\n",
      " 46.62240958 45.33612314 38.54974837 39.54921943 41.63999877 36.42204148\n",
      " 35.60022876 33.04922012 38.65885602 42.39422425 27.28369234]\n"
     ]
    }
   ],
   "source": [
    "from sklearn.svm import SVR\n",
    "reg = SVR(kernel=\"rbf\",gamma=0.1,C=20)\n",
    "reg.fit(X_train,Y_train)\n",
    "Y_pred = reg.predict(X_test)\n",
    "print(Y_pred)"
   ]
  },
  {
   "cell_type": "code",
   "execution_count": 38,
   "id": "cd9e7b72",
   "metadata": {},
   "outputs": [
    {
     "name": "stdout",
     "output_type": "stream",
     "text": [
      "R-squared: 0.7524187517197167\n",
      "RMSE: 6.4447006881239135\n",
      "Adj R-square: 0.7475282579265259\n"
     ]
    }
   ],
   "source": [
    "r2=r2_score(Y_test,Y_pred)\n",
    "print(\"R-squared:\",r2)\n",
    "\n",
    "rmse=np.sqrt(mean_squared_error(Y_test,Y_pred))\n",
    "print(\"RMSE:\",rmse)\n",
    "\n",
    "adjusted_r_squared = 1 - (1-r2)*(len(Y)-1)/(len(Y)-X.shape[1]-1)\n",
    "print(\"Adj R-square:\",adjusted_r_squared)"
   ]
  },
  {
   "cell_type": "markdown",
   "id": "d56a659f",
   "metadata": {},
   "source": [
    "SVR is giving 74.75% Adj R-square.\n",
    "\n",
    "This model is giving good results.\n",
    "\n",
    "SVR:\n",
    "\n",
    "1) Not suitable for noisy data.\n",
    "\n",
    "2) Not suitable for the high number of observations.\n",
    "\n",
    "3) Suitable for clearly separable data."
   ]
  },
  {
   "cell_type": "code",
   "execution_count": 39,
   "id": "710f1961",
   "metadata": {},
   "outputs": [],
   "source": [
    "from sklearn.tree import DecisionTreeRegressor\n",
    "\n",
    "model_DecisionTree = DecisionTreeRegressor(criterion=\"mse\",random_state=42)\n",
    "\n",
    "\n",
    "model_DecisionTree.fit(X_train,Y_train)\n",
    "Y_pred = model_DecisionTree.predict(X_test)"
   ]
  },
  {
   "cell_type": "code",
   "execution_count": 40,
   "id": "43f4b469",
   "metadata": {
    "scrolled": true
   },
   "outputs": [
    {
     "name": "stdout",
     "output_type": "stream",
     "text": [
      "R-squared: 0.5993086439759188\n",
      "RMSE: 8.198773049552738\n",
      "Adj R-square: 0.591393752992727\n"
     ]
    }
   ],
   "source": [
    "r2=r2_score(Y_test,Y_pred)\n",
    "print(\"R-squared:\",r2)\n",
    "\n",
    "rmse=np.sqrt(mean_squared_error(Y_test,Y_pred))\n",
    "print(\"RMSE:\",rmse)\n",
    "\n",
    "adjusted_r_squared = 1 - (1-r2)*(len(Y)-1)/(len(Y)-X.shape[1]-1)\n",
    "print(\"Adj R-square:\",adjusted_r_squared)"
   ]
  },
  {
   "cell_type": "markdown",
   "id": "3364f5eb",
   "metadata": {},
   "source": [
    "DecisionTreeRegressor is giving 59.14% Adj R-square.\n",
    "\n",
    "This model is not performing well.\n",
    "\n",
    "DecisionTreeRegressor:\n",
    "\n",
    "1) It has a problem of overfitting.\n",
    "\n",
    "2) This algorithm cares about only the current split and not about future splits.\n",
    "\n",
    "3) Not fit for continuous variables."
   ]
  },
  {
   "cell_type": "code",
   "execution_count": 41,
   "id": "dc1bde6c",
   "metadata": {},
   "outputs": [],
   "source": [
    "from sklearn.ensemble import RandomForestRegressor\n",
    "\n",
    "model_RandomForest = RandomForestRegressor(n_estimators=1000,\n",
    "                                           random_state=42)\n",
    "\n",
    "model_RandomForest.fit(X_train,Y_train)\n",
    "\n",
    "Y_pred = model_RandomForest.predict(X_test)"
   ]
  },
  {
   "cell_type": "code",
   "execution_count": 42,
   "id": "8b19cf6f",
   "metadata": {},
   "outputs": [
    {
     "name": "stdout",
     "output_type": "stream",
     "text": [
      "R-squared: 0.8075076154570932\n",
      "RMSE: 5.68264667677058\n",
      "Adj R-square: 0.8037052967500727\n"
     ]
    }
   ],
   "source": [
    "r2=r2_score(Y_test,Y_pred)\n",
    "print(\"R-squared:\",r2)\n",
    "\n",
    "rmse=np.sqrt(mean_squared_error(Y_test,Y_pred))\n",
    "print(\"RMSE:\",rmse)\n",
    "\n",
    "adjusted_r_squared = 1 - (1-r2)*(len(Y)-1)/(len(Y)-X.shape[1]-1)\n",
    "print(\"Adj R-square:\",adjusted_r_squared)"
   ]
  },
  {
   "cell_type": "markdown",
   "id": "300d8655",
   "metadata": {},
   "source": [
    "RandomForestRegressor is giving 80.37% Adj R-square.\n",
    "\n",
    "This model is performing really well.\n",
    "\n",
    "RandomForestRegressor:\n",
    "\n",
    "1) It creates a large number of Trees which can make the algorithm slow and ineffective for real-time prediction.\n",
    "\n",
    "2) In most real-world applications, the random forest algorithm is fast enough but there can certainly be situations where run-time performance is important and other approaches would be preferred."
   ]
  },
  {
   "cell_type": "code",
   "execution_count": 43,
   "id": "1cac6f31",
   "metadata": {},
   "outputs": [],
   "source": [
    "from sklearn.ensemble import GradientBoostingRegressor\n",
    "\n",
    "model_GradientBoosting=GradientBoostingRegressor(n_estimators=32,random_state=42)\n",
    "\n",
    "model_GradientBoosting.fit(X_train,Y_train)\n",
    "Y_pred=model_GradientBoosting.predict(X_test)"
   ]
  },
  {
   "cell_type": "code",
   "execution_count": 44,
   "id": "217b53c2",
   "metadata": {},
   "outputs": [
    {
     "name": "stdout",
     "output_type": "stream",
     "text": [
      "R-squared: 0.8015809317520564\n",
      "RMSE: 5.769465503599186\n",
      "Adj R-square: 0.7976615427496279\n"
     ]
    }
   ],
   "source": [
    "r2=r2_score(Y_test,Y_pred)\n",
    "print(\"R-squared:\",r2)\n",
    "\n",
    "rmse=np.sqrt(mean_squared_error(Y_test,Y_pred))\n",
    "print(\"RMSE:\",rmse)\n",
    "\n",
    "adjusted_r_squared = 1 - (1-r2)*(len(Y)-1)/(len(Y)-X.shape[1]-1)\n",
    "print(\"Adj R-square:\",adjusted_r_squared)"
   ]
  },
  {
   "cell_type": "markdown",
   "id": "fcffca12",
   "metadata": {},
   "source": [
    "GradientBoostingRegressor is giving 79.77% Adj R-square.\n",
    "\n",
    "This model is also giving good results. \n",
    "\n",
    "GradientBoostingRegressor:\n",
    "1) It can be computationally expensive and take a long time to train, especially on CPUs.\n",
    "\n",
    "2) Hard to interpret the final models."
   ]
  },
  {
   "cell_type": "code",
   "execution_count": 45,
   "id": "44eb2011",
   "metadata": {},
   "outputs": [],
   "source": [
    "from xgboost import XGBRegressor\n",
    "\n",
    "model_GradientBoosting = XGBRegressor(n_estimators=100,random_state=42)\n",
    "\n",
    "model_GradientBoosting.fit(X_train,Y_train)\n",
    "\n",
    "Y_pred = model_GradientBoosting.predict(X_test)"
   ]
  },
  {
   "cell_type": "code",
   "execution_count": 46,
   "id": "4f83f2a1",
   "metadata": {},
   "outputs": [
    {
     "name": "stdout",
     "output_type": "stream",
     "text": [
      "R-squared: 0.8000713497009027\n",
      "RMSE: 5.791371106780751\n",
      "Adj R-square: 0.79612214179376\n"
     ]
    }
   ],
   "source": [
    "r2=r2_score(Y_test,Y_pred)\n",
    "print(\"R-squared:\",r2)\n",
    "\n",
    "rmse=np.sqrt(mean_squared_error(Y_test,Y_pred))\n",
    "print(\"RMSE:\",rmse)\n",
    "\n",
    "adjusted_r_squared = 1 - (1-r2)*(len(Y)-1)/(len(Y)-X.shape[1]-1)\n",
    "print(\"Adj R-square:\",adjusted_r_squared)"
   ]
  },
  {
   "cell_type": "markdown",
   "id": "b1118263",
   "metadata": {},
   "source": [
    "XGBRegressor is giving 79.61% Adj R-square.\n",
    "\n",
    "This model is also performing well.\n",
    "\n",
    "XGBRegressor:\n",
    "\n",
    "1) It does not perform well on unstructured data.\n",
    "\n",
    "2) It is very sensitive toward outliers.\n",
    "\n",
    "3) It is hardly scalable because the estimators base their correctness on previous predictors, hence the procedure involves a lot of struggle to streamline."
   ]
  },
  {
   "cell_type": "code",
   "execution_count": 47,
   "id": "fb5783ba",
   "metadata": {},
   "outputs": [],
   "source": [
    "from sklearn.ensemble import AdaBoostRegressor\n",
    "\n",
    "model_AdaBoost=AdaBoostRegressor(base_estimator=\n",
    "                                  DecisionTreeRegressor(random_state=42),\n",
    "                                  n_estimators=101,\n",
    "                                  random_state=42)\n",
    "\n",
    "model_AdaBoost.fit(X_train,Y_train)\n",
    "Y_pred=model_AdaBoost.predict(X_test)"
   ]
  },
  {
   "cell_type": "code",
   "execution_count": 48,
   "id": "772855d2",
   "metadata": {},
   "outputs": [
    {
     "name": "stdout",
     "output_type": "stream",
     "text": [
      "R-squared: 0.7850188623854379\n",
      "RMSE: 6.005429270492789\n",
      "Adj R-square: 0.7807723213955207\n"
     ]
    }
   ],
   "source": [
    "r2=r2_score(Y_test,Y_pred)\n",
    "print(\"R-squared:\",r2)\n",
    "\n",
    "rmse=np.sqrt(mean_squared_error(Y_test,Y_pred))\n",
    "print(\"RMSE:\",rmse)\n",
    "\n",
    "adjusted_r_squared = 1 - (1-r2)*(len(Y)-1)/(len(Y)-X.shape[1]-1)\n",
    "print(\"Adj R-square:\",adjusted_r_squared)"
   ]
  },
  {
   "cell_type": "markdown",
   "id": "32d8e175",
   "metadata": {},
   "source": [
    "AdaBoostRegressor is giving 78.08% Adj R-square.\n",
    "\n",
    "This model is performing well.\n",
    "\n",
    "AdaBoostRegressor:\n",
    "\n",
    "1) It requires a quality dataset.\n",
    "\n",
    "2) Not suitable for noisy data.\n",
    "\n",
    "3) It is very sensitive toward outliers."
   ]
  },
  {
   "cell_type": "code",
   "execution_count": 49,
   "id": "fa6db430",
   "metadata": {},
   "outputs": [],
   "source": [
    "from sklearn.ensemble import ExtraTreesRegressor\n",
    "\n",
    "model_EXT = ExtraTreesRegressor(n_estimators=1200,\n",
    "                                           random_state=42,bootstrap=True)\n",
    "\n",
    "model_EXT.fit(X_train,Y_train)\n",
    "\n",
    "Y_pred = model_EXT.predict(X_test)"
   ]
  },
  {
   "cell_type": "code",
   "execution_count": 50,
   "id": "126e2ab8",
   "metadata": {},
   "outputs": [
    {
     "name": "stdout",
     "output_type": "stream",
     "text": [
      "R-squared: 0.8212687705450807\n",
      "RMSE: 5.475756147889292\n",
      "Adj R-square: 0.817738277123749\n"
     ]
    }
   ],
   "source": [
    "r2=r2_score(Y_test,Y_pred)\n",
    "print(\"R-squared:\",r2)\n",
    "\n",
    "rmse=np.sqrt(mean_squared_error(Y_test,Y_pred))\n",
    "print(\"RMSE:\",rmse)\n",
    "\n",
    "adjusted_r_squared = 1 - (1-r2)*(len(Y)-1)/(len(Y)-X.shape[1]-1)\n",
    "print(\"Adj R-square:\",adjusted_r_squared)"
   ]
  },
  {
   "cell_type": "markdown",
   "id": "1ab81ade",
   "metadata": {},
   "source": [
    "ExtraTreesRegressor is giving 81.77% Adj R-square.\n",
    "\n",
    "This model is giving the best result.\n",
    "\n",
    "ExtraTreesRegressor:\n",
    "\n",
    "1) It is the same as Random Forest but Extra Trees uses the whole sample and Random Forest uses a subsample.\n",
    "\n",
    "2) In terms of computational cost, and therefore execution time, the Extra Trees algorithm is faster than Random Forest. This algorithm saves time because the whole procedure is the same, but it randomly chooses the split point and does not calculate the optimal one."
   ]
  },
  {
   "cell_type": "markdown",
   "id": "230d817e",
   "metadata": {},
   "source": [
    "Adjusted R-Squared of all the models:\n",
    "\n",
    "Linear Regression - 66.22%\n",
    "\n",
    "Ridge - 66.26%\n",
    "\n",
    "Lasso - 66.08%\n",
    "\n",
    "SGDRegressor - 62.54%\n",
    "\n",
    "KNeighborsRegressor - 75.28%\n",
    "\n",
    "SVR - 74.75%\n",
    "\n",
    "DecisionTreeRegressor - 59.14%\n",
    "\n",
    "RandomForestRegressor - 80.37%\n",
    "\n",
    "GradientBoostingRegressor - 79.77%\n",
    "\n",
    "XGBRegressor - 79.61%\n",
    "\n",
    "AdaBoostRegressor - 78.08%\n",
    "\n",
    "ExtraTreesRegressor - 81.77%\n",
    "\n",
    "I would prefer ExtraTreesRegressor as the final model because it is giving the best result as compared to other models and with computational cost, the execution time will be faster."
   ]
  },
  {
   "cell_type": "code",
   "execution_count": 51,
   "id": "5eb79b07",
   "metadata": {},
   "outputs": [
    {
     "name": "stdout",
     "output_type": "stream",
     "text": [
      "[49.24866667 38.68       51.224      36.15633333 26.72733333 42.78808333\n",
      " 49.10916667 51.88575    16.07491667 59.01816667 25.5605     32.09091667\n",
      " 30.36441667 15.56175    36.39775    26.41475    41.97491667 53.16358333\n",
      " 25.52983333 39.24591667 16.52425    24.64775    51.01841667 45.33658333\n",
      " 14.86525    37.19758333 16.13466667 48.28825    45.48108333 37.5255\n",
      " 18.767      26.73708333 37.44808333 25.67966667 47.86008333 38.37983333\n",
      " 54.94208333 16.576      45.0805     46.72583333 43.90475    40.26033333\n",
      " 46.60058333 37.65525    38.98925    48.91375    38.7225     23.70433333\n",
      " 49.46716667 46.7625     48.84116667 54.01       41.04558333 38.90108333\n",
      " 37.53983333 16.93508333 36.18558333 36.59275    25.84075    50.22533333\n",
      " 27.93241667 27.08125    16.365      14.87241667 20.04858333 25.12008333\n",
      " 27.65216667 40.33891667 36.16875    26.94875    44.68675    46.9715\n",
      " 54.62983333 49.41616667 36.41125    37.28958333 41.15966667 39.773\n",
      " 38.90516667 30.16566667 39.06375    47.99408333 26.5535    ]\n"
     ]
    }
   ],
   "source": [
    "print(Y_pred)"
   ]
  },
  {
   "cell_type": "code",
   "execution_count": null,
   "id": "cc6ce1a3",
   "metadata": {},
   "outputs": [],
   "source": []
  }
 ],
 "metadata": {
  "kernelspec": {
   "display_name": "Python 3 (ipykernel)",
   "language": "python",
   "name": "python3"
  },
  "language_info": {
   "codemirror_mode": {
    "name": "ipython",
    "version": 3
   },
   "file_extension": ".py",
   "mimetype": "text/x-python",
   "name": "python",
   "nbconvert_exporter": "python",
   "pygments_lexer": "ipython3",
   "version": "3.9.12"
  }
 },
 "nbformat": 4,
 "nbformat_minor": 5
}
